{
 "cells": [
  {
   "cell_type": "markdown",
   "metadata": {},
   "source": [
    "# Exercises on digital image analysis with Python\n",
    "\n",
    "This document contains some exercises you can do to get a feel for some digital image analysis with Python. It is intended to go along with a course on the subject matter, and you can read the corresponding lecture notes if you are unclear on how to proceed."
   ]
  },
  {
   "cell_type": "markdown",
   "metadata": {},
   "source": [
    "## Exercise 1: Reading and plotting an image\n",
    "\n",
    "In this exercise you will read in an image and plot it.\n",
    "\n",
    "* Import the `io` module from the `skimage` package\n",
    "* Use `io.imread` to read the file `img/chest_006.jpg`, store the image data as a variable\n",
    "* Import `matplotlib.pyplot` under the alias `plt`\n",
    "* Use `plt.imshow` to display the image"
   ]
  },
  {
   "cell_type": "markdown",
   "metadata": {},
   "source": [
    "## Exercise 2: A deuteranopi filter\n",
    "\n",
    "In this exercise you will implement a *deuteranopi* filter by working with `numpy` array indexing. Deuteranopi, or \"red-green color blindness\" as it is often called, is a condition where it is hard to separate red and green colors. \n",
    "\n",
    "* a) Read in the example image `img/color_wheel.png` and plot it\n",
    "* b) Use indexing the pick out the red, green and blue color channels\n",
    "* c) Now define a new array `mixed`, by adding `0.5*red + 0.5*green`.\n",
    "* d) Now go back and replace both the red and the green channels with this mix, by writing\n",
    "    * `colorwheel[:, :, 0] = mixed`\n",
    "* e) Plot the modified colorwheel\n",
    "* f) Run the same process through the `deuteranopia_test.jpg` image. You should be able to read the number in the image before you apply the filter, but not after.\n"
   ]
  },
  {
   "cell_type": "markdown",
   "metadata": {},
   "source": [
    "## Exercise 3: Explore a `numpy` array\n",
    "\n",
    "In this exercise you will load in a few images, and use the fact that it is a `numpy` array to explore the data a bit.\n",
    "\n",
    "* a) Load in the image `img/brain_tumors/glioma4.jpg`\n",
    "* b) Use `numpy` to check the data type of the pixels `.dtype`, the number of dimensions `.ndim`, the shape `.shape`..\n",
    "* c) The number of dimensions is a bit strange on this image. Can you figure out why?\n",
    "* d) Load in the image `img/chest_003.png` and check the same variables.\n",
    "* e) Why is the number of dimensions larger for the brain tumor image than the chest x-ray?\n",
    "\n",
    "Hint: The brain tumor image is a bit strange because it is a graytone image that is stored like a RGB color image. You can pull out the three channels to double check that the information stored in each is identical. Can you find a way to simplify the image?"
   ]
  },
  {
   "cell_type": "markdown",
   "metadata": {},
   "source": [
    "## Exercise 4: Cropping an image using slicing\n",
    "\n",
    "In this exercise you will crop an image using slicing of a numpy array. You can write your code from scratch, or fill into the skeleton below\n",
    "\n",
    "* a) Read in the example image `skimage.data.chelsea`\n",
    "* b) Check the image dimensions using `.shape`\n",
    "* c) plot the image, what does it show? \n",
    "* d) Use slicing to crop out a 64x64 pixel window of an eye\n",
    "* e) Plot the eye as its own image"
   ]
  },
  {
   "cell_type": "code",
   "execution_count": null,
   "metadata": {},
   "outputs": [],
   "source": [
    "from skimage import data\n",
    "import matplotlib.pyplot as plt\n",
    "\n",
    "# Read in example image\n",
    "chelsea = data.chelsea()\n",
    "\n",
    "# Check image dimensions\n",
    "print(...)\n",
    "\n",
    "# Plot example image\n",
    "plt.imshow(...)\n",
    "plt.show()\n",
    "\n",
    "# Crop the image\n",
    "x0 = ... \n",
    "y0 = ...\n",
    "width = ...\n",
    "\n",
    "eye = chelsea[..., ...]\n",
    "\n",
    "# Plot the cropped image\n",
    "plt.imshow(...)\n",
    "plt.show()"
   ]
  },
  {
   "cell_type": "markdown",
   "metadata": {},
   "source": [
    "### Exercise 5: Reading a DICOM-image and working with tags\n",
    "\n",
    "In this exercise you will use the `pydicom` package to read a DICOM-image, change its tag, plot the image data and save the modified file. You can read an image using `pydicom.dcmread`\n",
    "\n",
    "* a) Read in the file `img/vannfantom.dcm`\n",
    "* b) Read the `PatientName` tag, what does it say?\n",
    "* c) Does the file have a `PatientID` tag? If so, what does it say?\n",
    "* d) Delete both tags\n",
    "* e) Plot the image data contained within the file (Hint: `.pixel_array`)\n",
    "* f) Find the size of the image, the data type of the pixels and the average value of the entire image.\n",
    "* g) Save the image with the saved tags under `results/vannfantom.dcm`"
   ]
  },
  {
   "cell_type": "markdown",
   "metadata": {},
   "source": [
    "## Exercise 6: Batch-process images\n",
    "\n",
    "In this exercise you will use `glob` to loop over and repeat operations.\n",
    "\n",
    "The `img` folder contains a series of images called `chest000.png`, `chest001.png` and so on. You will now use a loop-combined with `glob` to loop over these and plot them out. Fill into the code below to do this:"
   ]
  },
  {
   "cell_type": "code",
   "execution_count": null,
   "metadata": {},
   "outputs": [],
   "source": [
    "from skimage import io\n",
    "import matplotlib.pyplot as plt\n",
    "import glob\n",
    "\n",
    "xray_files = sorted(glob.glob(...))\n",
    "\n",
    "for xray in xray_files:\n",
    "    img = io.imread(xray)\n",
    "    \n",
    "    plt.imshow(img)\n",
    "    plt.title(xray)\n",
    "    plt.show()"
   ]
  },
  {
   "cell_type": "markdown",
   "metadata": {},
   "source": [
    "### Exercise 7: Segmenting a cell\n",
    "\n",
    "* a) Read in the example image `skimage.data.cell`\n",
    "* b) Check the `shape` and `dtype` of the image\n",
    "* c) Plot the image\n",
    "* d) Use thresholding to segment out the cell itself\n",
    "* e) How big is the cell (in the number of pixels)?"
   ]
  },
  {
   "cell_type": "markdown",
   "metadata": {},
   "source": [
    "### Exercise 8: Finding average pixels in a water phantom\n",
    "\n",
    "Let us return to the water phantom we had you read in earlier. You can find this image data as follows"
   ]
  },
  {
   "cell_type": "code",
   "execution_count": null,
   "metadata": {},
   "outputs": [],
   "source": [
    "import pydicom as dcm\n",
    "\n",
    "data = dcm.dcmread(\"img/vannfantom.dcm\")\n",
    "img = data.pixel_array"
   ]
  },
  {
   "cell_type": "markdown",
   "metadata": {},
   "source": [
    "* a) Print out the pixel type, and the shape of this image. \n",
    "* b) Plot the image\n",
    "* c) Compute the average pixel intensity and the standard deviation (`np.mean` and `np.std`)\n",
    "* d) Use `filters.threshold_otsu` on the image to segment it, then compute again the mean and std of just the thresholded parts of the image"
   ]
  },
  {
   "cell_type": "markdown",
   "metadata": {},
   "source": [
    "In this case the Otsu thresholded image gets the small gray segment at the top of the image. Let us instead create a circular mask towards the center. The code lines below do this:"
   ]
  },
  {
   "cell_type": "code",
   "execution_count": null,
   "metadata": {},
   "outputs": [],
   "source": [
    "import numpy as np\n",
    "from skimage import draw\n",
    "\n",
    "mask = np.zeros(img.shape, dtype=bool)\n",
    "rr, cc = draw.disk((256, 256), 20, shape=img.shape)\n",
    "mask[rr, cc] = 1"
   ]
  },
  {
   "cell_type": "markdown",
   "metadata": {},
   "source": [
    "* e) Read the code lines and *attempt* to understand what is happening.\n",
    "* f) Plot the mask image\n",
    "* g) Use this mask image to compute the mean and standard deviation."
   ]
  }
 ],
 "metadata": {
  "kernelspec": {
   "display_name": "Python 3",
   "language": "python",
   "name": "python3"
  },
  "language_info": {
   "codemirror_mode": {
    "name": "ipython",
    "version": 3
   },
   "file_extension": ".py",
   "mimetype": "text/x-python",
   "name": "python",
   "nbconvert_exporter": "python",
   "pygments_lexer": "ipython3",
   "version": "3.8.10"
  }
 },
 "nbformat": 4,
 "nbformat_minor": 4
}
